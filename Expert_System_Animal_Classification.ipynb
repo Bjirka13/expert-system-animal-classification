{
  "nbformat": 4,
  "nbformat_minor": 0,
  "metadata": {
    "colab": {
      "provenance": []
    },
    "kernelspec": {
      "name": "python3",
      "display_name": "Python 3"
    },
    "language_info": {
      "name": "python"
    }
  },
  "cells": [
    {
      "cell_type": "markdown",
      "source": [
        "**Forward Chaining - Expert System**"
      ],
      "metadata": {
        "id": "CYMwUuNgHCFw"
      }
    },
    {
      "cell_type": "markdown",
      "source": [
        "Animal Identification"
      ],
      "metadata": {
        "id": "tKzCdzPoHNyO"
      }
    },
    {
      "cell_type": "markdown",
      "source": [
        "## Add the rule to be tested."
      ],
      "metadata": {
        "id": "J8seUbt1-TUi"
      }
    },
    {
      "cell_type": "code",
      "execution_count": null,
      "metadata": {
        "id": "9jd4IjSsF82K"
      },
      "outputs": [],
      "source": [
        "global facts\n",
        "global is_changed\n",
        "\n",
        "is_changed = True\n",
        "\n",
        "# Function of asserting facts\n",
        "def assert_fact(facts, fact):\n",
        "  global is_changed\n",
        "\n",
        "  if not fact in facts:\n",
        "    facts.append(fact)  # Changed from += to append\n",
        "    is_changed = True\n",
        "  return facts\n",
        "\n",
        "def predictAnimal(inputedFacts):\n",
        "  facts = inputedFacts\n",
        "  global is_changed\n",
        "  is_changed = True\n",
        "\n",
        "  while is_changed:\n",
        "    is_changed = False\n",
        "    for xf in facts.copy():\n",
        "      if xf[0] == \"has hair\":\n",
        "        facts = assert_fact(facts, [\"is mammal\", xf[1]])  # Pass facts as first argument\n",
        "      if xf[0] == \"gives milk\":\n",
        "        facts = assert_fact(facts, [\"is mammal\", xf[1]])  # Pass facts as first argument\n",
        "      if xf[0] == \"has feathers\":\n",
        "        facts = assert_fact(facts, [\"is bird\", xf[1]])  # Pass facts as first argument\n",
        "      if xf[0] == \"flies\" and [\"lays egg\", xf[1]] in facts:\n",
        "        facts = assert_fact(facts, [\"is bird\", xf[1]])  # Pass facts as first argument\n",
        "      if xf[0] == \"is mammal\" and [\"eats meat\", xf[1]] in facts:\n",
        "        facts = assert_fact(facts, [\"is carnivore\", xf[1]])  # Pass facts as first argument\n",
        "      if xf[0] == \"is mammal\" and [\"has pointed teeth\", xf[1]] and [\"has claws\", xf[1]] and [\"has forward pointing eyes\", xf[1]] in facts:\n",
        "        facts = assert_fact(facts, [\"is carnivore\", xf[1]])  # Pass facts as first argument\n",
        "      if xf[0] == \"is mammal\" and [\"has hoofs\", xf[1]] in facts:\n",
        "        facts = assert_fact(facts, [\"is ungulate\", xf[1]])  # Pass facts as first argument\n",
        "        facts = assert_fact(facts, [\"is even-toed\", xf[1]])  # Pass facts as first argument\n",
        "      if xf[0] == \"is mammal\" and [\"cew cud\", xf[1]] and [\"is ungulate\", xf[1]] in facts:\n",
        "        facts = assert_fact(facts, [\"is even-toed\", xf[1]])  # Pass facts as first argument\n",
        "      if xf[0] == \"is carnivore\" and [\"twany color\", xf[1]] and [\"has dark spots\", xf[1]] in facts:\n",
        "        facts = assert_fact(facts, [\"is cheetah\", xf[1]])  # Pass facts as first argument\n",
        "      if xf[0] == \"is carnivore\" and [\"twany color\", xf[1]] and [\"has black stripes\", xf[1]] in facts:\n",
        "        facts = assert_fact(facts, [\"is tiger\", xf[1]])  # Pass facts as first argument\n",
        "\n",
        "  return facts"
      ]
    },
    {
      "cell_type": "markdown",
      "source": [
        "## Declare a function to request and validate input from the user"
      ],
      "metadata": {
        "id": "KiTk0BGq-Ed-"
      }
    },
    {
      "cell_type": "code",
      "source": [
        "def get_facts_from_user():\n",
        "    facts = []\n",
        "    while True:\n",
        "        fact = input(\"Enter the animal facts (type 'done' when finished):\")\n",
        "        if fact.lower() == 'done':\n",
        "            break\n",
        "        try:\n",
        "            value = [fact, 'x'];\n",
        "            facts.append(value);\n",
        "        except ValueError:\n",
        "            print(\"Invalid fact format. Please use 'attribute value'.\")\n",
        "    return facts\n",
        "inputedFacts = get_facts_from_user()\n",
        "result = predictAnimal(inputedFacts)\n",
        "result"
      ],
      "metadata": {
        "colab": {
          "base_uri": "https://localhost:8080/"
        },
        "id": "3fXIRlmH2Mw6",
        "outputId": "55636dfa-b5eb-4ea7-9d58-6470f344786c"
      },
      "execution_count": null,
      "outputs": [
        {
          "name": "stdout",
          "output_type": "stream",
          "text": [
            "Enter the animal facts (type 'done' when finished):has feathers\n",
            "Enter the animal facts (type 'done' when finished):flies\n",
            "Enter the animal facts (type 'done' when finished):done\n"
          ]
        },
        {
          "output_type": "execute_result",
          "data": {
            "text/plain": [
              "[['has feathers', 'x'], ['flies', 'x'], ['is bird', 'x']]"
            ]
          },
          "metadata": {},
          "execution_count": 4
        }
      ]
    },
    {
      "cell_type": "markdown",
      "source": [
        "## 3. Perform a check during the inference process.\n"
      ],
      "metadata": {
        "id": "iipoqB1x9tcQ"
      }
    },
    {
      "cell_type": "markdown",
      "source": [
        "The inference process is correct, as seen in the output above."
      ],
      "metadata": {
        "id": "ew7uCemG9qbL"
      }
    },
    {
      "cell_type": "markdown",
      "source": [
        "## 4. Conclusion"
      ],
      "metadata": {
        "id": "4e27w3Dt9xE_"
      }
    },
    {
      "cell_type": "markdown",
      "source": [
        "**It can be concluded that:**\n",
        "\n",
        "This experiment aims to identify the type of animal based on the facts provided by the user. The program will draw conclusions from the given facts until no new facts can be inferred.\n"
      ],
      "metadata": {
        "id": "jCRvxfwj9zlm"
      }
    }
  ]
}